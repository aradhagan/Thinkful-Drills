{
 "cells": [
  {
   "cell_type": "markdown",
   "metadata": {},
   "source": [
    "A diagnostic test has a 98% probability of giving a positive result when applied to a person suffering from Thripshaw's Disease, and 10% probability of giving a (false) positive when applied to a non-sufferer. It is estimated that 0.5 % of the population are sufferers. Suppose that the test is now administered to a person whose disease status is unknown. Calculate the probability that the test will:\n",
    "\n",
    "1.Be positive\n",
    "2.Correctly diagnose a sufferer of Thripshaw's\n",
    "3.Correctly identify a non-sufferer of Thripshaw's\n",
    "4.Misclassify the person\n",
    "\n",
    "\n",
    "1 .  Be positive\n",
    "=P(Infected) * P(+ve|Infected)      +     P(Not-Infected) * P(+ve|Not-Infected)\n",
    "\n",
    "=.005        *  0.98                +       .995        *  0.10\n",
    "\n",
    "0.0049+.0995\n",
    "\n",
    "=0.01044\n",
    "\n",
    "2 .      0.98\n",
    "\n",
    "3 .     1 - 0.10  = 0.90\n",
    "\n",
    "4 .     1- Be positive = 0.9752"
   ]
  },
  {
   "cell_type": "code",
   "execution_count": null,
   "metadata": {},
   "outputs": [],
   "source": []
  }
 ],
 "metadata": {
  "kernelspec": {
   "display_name": "Python 3",
   "language": "python",
   "name": "python3"
  },
  "language_info": {
   "codemirror_mode": {
    "name": "ipython",
    "version": 3
   },
   "file_extension": ".py",
   "mimetype": "text/x-python",
   "name": "python",
   "nbconvert_exporter": "python",
   "pygments_lexer": "ipython3",
   "version": "3.6.5"
  }
 },
 "nbformat": 4,
 "nbformat_minor": 2
}
