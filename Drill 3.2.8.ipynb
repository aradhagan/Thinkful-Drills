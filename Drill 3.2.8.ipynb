{
 "cells": [
  {
   "cell_type": "markdown",
   "metadata": {},
   "source": [
    "Drill 3.2.8\n",
    "\n",
    "You are on a game show and given the choice of whatever is behind three doors. Behind one door is a fantastic prize (some examples use a car, others use cash) while behind the other two doors is a dud (some examples say a goat, others say it's just empty). You pick a door. Then the host opens one of the other two doors to reveal a dud. But here's the wrinkle: the host now gives you the opportunity to switch your door. What should you do?\n",
    "\n",
    "\n",
    "The Prior proabability needs to calculated before selection i.e \n",
    "Probability of each door being fantastic  = P(F) =1/3=0.333\n",
    "Probability of each door being Dud  = P(E) =2/3=0.667\n",
    "\n",
    "   Door  1 2 3\n",
    " Case 1  D D F\n",
    " Case 2  D F D\n",
    " Case 3  F D D\n",
    "\n",
    "But after revealing a door =Dud\n",
    "\n",
    "the case 1 can be voided because...3rd door is D\n",
    "\n",
    "\n",
    "We are left with one door is Fantastic and one is Empty and both will have 0.5 probabilty of being Fantastic.\n",
    "\n",
    "We should not change the selection. It does not matter if we change the selection since both have same probabilty of being Fantastic.\n",
    "\n",
    "\n",
    "                                                         '=                                "
   ]
  }
 ],
 "metadata": {
  "kernelspec": {
   "display_name": "Python 3",
   "language": "python",
   "name": "python3"
  },
  "language_info": {
   "codemirror_mode": {
    "name": "ipython",
    "version": 3
   },
   "file_extension": ".py",
   "mimetype": "text/x-python",
   "name": "python",
   "nbconvert_exporter": "python",
   "pygments_lexer": "ipython3",
   "version": "3.6.5"
  }
 },
 "nbformat": 4,
 "nbformat_minor": 2
}
