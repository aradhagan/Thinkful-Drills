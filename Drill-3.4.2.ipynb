{
 "cells": [
  {
   "cell_type": "markdown",
   "metadata": {},
   "source": [
    "# Drill-3.2.4....#https://courses.thinkful.com/data-201-prepv1/project/3.2.4"
   ]
  },
  {
   "cell_type": "markdown",
   "metadata": {},
   "source": [
    "I Calculate the probability of flipping a balanced coin four times and getting each pattern: HTTH, HHHH and TTHH.\n",
    "\n",
    "\n",
    "Ans:\n",
    "The probability of H or T is 0.5 and since balanced coin indicates independent events....so probability of HTTH or HHHH or TTHH will be same i.e \n",
    "\n",
    "P (HTTH) = 0.5*0.5*0.5*0.5 = 0.0625\n",
    "\n",
    "\n",
    "\n",
    "II If a list of people has 24 women and 21 men, then the probability of choosing a man from the list is 21/45. What is the probability of not choosing a man?\n",
    "\n",
    "Ans:\n",
    "P(M) = 21/45 = 0.466\n",
    "\n",
    "P( not M) = 1- 0.466 = 0.533\n",
    "\n",
    "or\n",
    "\n",
    "P(not M) is nothing but probabiliy of choosing women since there are only two possibilities. so probability of women is 24/45 = 0.533\n",
    "\n",
    "\n",
    "\n",
    "III  The probability that Bernice will travel by plane sometime in the next year is 10%. The probability of a plane crash at any time is .005%. What is the probability that Bernice will be in a plane crash sometime in the next year?\n",
    "\n",
    "Ans:\n",
    "P(Travel) = 0.1\n",
    "\n",
    "P(Crash) = 0.00005\n",
    "\n",
    "P(crash in the travel) = 0.1 * 0.00005 = 0.000005\n",
    "\n",
    "\n",
    "\n",
    "IV   A data scientist wants to study the behavior of users on the company website. Each time a user clicks on a link on the website, there is a 5% chance that the user will be asked to complete a short survey about their behavior on the website. The data scientist uses the survey data to conclude that, on average, users spend 15 minutes surfing the company website before moving on to other things. What is wrong with this conclusion?\n",
    "\n",
    "We cannot conclude about average users here because we have a sample bias.  Since,  we have data only on users that have completed survey and not users who did not complete the survey, we cannot generalize and conclude on all users.\n",
    "\n",
    "\n"
   ]
  }
 ],
 "metadata": {
  "kernelspec": {
   "display_name": "Python 3",
   "language": "python",
   "name": "python3"
  },
  "language_info": {
   "codemirror_mode": {
    "name": "ipython",
    "version": 3
   },
   "file_extension": ".py",
   "mimetype": "text/x-python",
   "name": "python",
   "nbconvert_exporter": "python",
   "pygments_lexer": "ipython3",
   "version": "3.6.5"
  }
 },
 "nbformat": 4,
 "nbformat_minor": 2
}
