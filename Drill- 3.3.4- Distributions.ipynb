{
 "cells": [
  {
   "cell_type": "markdown",
   "metadata": {},
   "source": [
    "# Drill 3.3.4"
   ]
  },
  {
   "cell_type": "code",
   "execution_count": 1,
   "metadata": {},
   "outputs": [],
   "source": [
    "import pandas as pd\n",
    "import numpy as np\n",
    "import matplotlib.pyplot as plt"
   ]
  },
  {
   "cell_type": "markdown",
   "metadata": {},
   "source": [
    "## Binomial distribution"
   ]
  },
  {
   "cell_type": "code",
   "execution_count": 53,
   "metadata": {},
   "outputs": [
    {
     "name": "stdout",
     "output_type": "stream",
     "text": [
      "[1 0 0 0 0 0 0 0 0 0 0 0 0 0 0 0 1 0 0 0 0 0 0 0 0 0 0 0 0 0 1 0 0 0 0 0 0\n",
      " 0 0 0 0 0 1 1 0 0 1 0 0 0 0 0 0 0 0 0 0 0 0 0 0 1 0 0 1 0 0 0 0 0 0 0 1 0\n",
      " 0 0 0 1 0 0 0 0 0 0 0 0 0 0 0 0 1 0 0 0 0 0 1 0 1 0]\n",
      "The mean is  0.13\n",
      "The Standard deviation  is  0.33630343441600474\n"
     ]
    },
    {
     "data": {
      "image/png": "[encoded data removed]",
      "text/plain": [
       "<Figure size 432x288 with 1 Axes>"
      ]
     },
     "metadata": {},
     "output_type": "display_data"
    }
   ],
   "source": [
    "binomial_distr = np.random.binomial(1, 0.1, 100)\n",
    "print (binomial_distr)\n",
    "plt.hist(binomial_distr, color ='grey')\n",
    "\n",
    "# Add a vertical line at the mean.\n",
    "plt.axvline(binomial_distr.mean(), color='b', linestyle='solid', linewidth=2)\n",
    "\n",
    "# Add a vertical line at one standard deviation above the mean.\n",
    "plt.axvline(binomial_distr.mean() + binomial_distr.std(), color='b', linestyle='dashed', linewidth=2)\n",
    "\n",
    "# Add a vertical line at one standard deviation below the mean.\n",
    "plt.axvline(binomial_distr.mean()-binomial_distr.std(), color='b', linestyle='dashed', linewidth=2) \n",
    "\n",
    "print (\"The mean is \", np.mean(binomial_distr) )\n",
    "print (\"The Standard deviation  is \", np.std(binomial_distr) )\n",
    "\n",
    "plt.show()"
   ]
  },
  {
   "cell_type": "markdown",
   "metadata": {},
   "source": [
    "the Mean and Standard deviation here cannot provide any useful information about the characteristics of the distribution."
   ]
  },
  {
   "cell_type": "markdown",
   "metadata": {},
   "source": [
    "## Normal distribution"
   ]
  },
  {
   "cell_type": "code",
   "execution_count": 55,
   "metadata": {
    "scrolled": true
   },
   "outputs": [
    {
     "name": "stdout",
     "output_type": "stream",
     "text": [
      "The mean is  1.0345854808255042\n",
      "The Standard deviation  is  2.019785230533924\n",
      "The median is  1.053740432888362\n"
     ]
    },
    {
     "data": {
      "image/png": "[encoded data removed]",
      "text/plain": [
       "<Figure size 432x288 with 1 Axes>"
      ]
     },
     "metadata": {},
     "output_type": "display_data"
    }
   ],
   "source": [
    "Normal_distr = np.random.normal(1, 2, 1000)\n",
    "#print (Normal_distr)\n",
    "plt.hist(Normal_distr, bins=20, color ='grey')\n",
    "\n",
    "# Add a vertical line at the mean.\n",
    "plt.axvline(Normal_distr.mean(), color='b', linestyle='solid', linewidth=2)\n",
    "\n",
    "# Add a vertical line at one standard deviation above the mean.\n",
    "plt.axvline(Normal_distr.mean() + Normal_distr.std(), color='b', linestyle='dashed', linewidth=2)\n",
    "\n",
    "# Add a vertical line at one standard deviation below the mean.\n",
    "plt.axvline(Normal_distr.mean()-Normal_distr.std(), color='b', linestyle='dashed', linewidth=2) \n",
    "\n",
    "print (\"The mean is \", np.mean(Normal_distr) )\n",
    "print (\"The Standard deviation  is \", np.std(Normal_distr) )\n",
    "print (\"The median is \", np.median(Normal_distr))\n",
    "\n",
    "plt.show()"
   ]
  },
  {
   "cell_type": "markdown",
   "metadata": {},
   "source": [
    "the Mean and Standard deviation here  provide  useful information about the characteristics of the distribution.\n",
    "The mean -- shows the central tendency of the data points..where most of the data cluster\n",
    "The Stadard deviation is 2 covers around 68% of the data\n",
    "The median and the mean are the same...which is a characteristic feature of Normal distribution"
   ]
  },
  {
   "cell_type": "markdown",
   "metadata": {},
   "source": [
    "## Gamma distribution"
   ]
  },
  {
   "cell_type": "code",
   "execution_count": 66,
   "metadata": {},
   "outputs": [
    {
     "name": "stdout",
     "output_type": "stream",
     "text": [
      "The mean is  29.7928540913541\n",
      "The Standard deviation  is  13.26214154461195\n",
      "The median is  27.65829215545667\n"
     ]
    },
    {
     "data": {
      "image/png": "[encoded data removed]",
      "text/plain": [
       "<Figure size 432x288 with 1 Axes>"
      ]
     },
     "metadata": {},
     "output_type": "display_data"
    }
   ],
   "source": [
    "Gamma_distr = np.random.gamma(5, 6, 1000)\n",
    "#print (Normal_distr)\n",
    "plt.hist(Gamma_distr, bins=20, color ='grey')\n",
    "\n",
    "# Add a vertical line at the mean.\n",
    "plt.axvline(Gamma_distr.mean(), color='b', linestyle='solid', linewidth=2)\n",
    "\n",
    "# Add a vertical line at one standard deviation above the mean.\n",
    "plt.axvline(Gamma_distr.mean() + Gamma_distr.std(), color='b', linestyle='dashed', linewidth=2)\n",
    "\n",
    "# Add a vertical line at one standard deviation below the mean.\n",
    "plt.axvline(Gamma_distr.mean()-Gamma_distr.std(), color='b', linestyle='dashed', linewidth=2) \n",
    "\n",
    "print (\"The mean is \", np.mean(Gamma_distr) )\n",
    "print (\"The Standard deviation  is \", np.std(Gamma_distr) )\n",
    "print (\"The median is \", np.median(Gamma_distr))\n",
    "\n",
    "plt.show()\n"
   ]
  },
  {
   "cell_type": "markdown",
   "metadata": {},
   "source": [
    "## Poisson distribution"
   ]
  },
  {
   "cell_type": "code",
   "execution_count": 75,
   "metadata": {},
   "outputs": [
    {
     "name": "stdout",
     "output_type": "stream",
     "text": [
      "The mean is  2.977\n",
      "The Standard deviation  is  1.7200206394110507\n",
      "The median is  3.0\n"
     ]
    },
    {
     "data": {
      "image/png": "[encoded data removed]",
      "text/plain": [
       "<Figure size 432x288 with 1 Axes>"
      ]
     },
     "metadata": {},
     "output_type": "display_data"
    }
   ],
   "source": [
    "Poisson_distr = np.random.poisson(3, 1000)\n",
    "#print (Normal_distr)\n",
    "plt.hist(Poisson_distr, color ='grey')\n",
    "\n",
    "# Add a vertical line at the mean.\n",
    "plt.axvline(Poisson_distr.mean(), color='b', linestyle='solid', linewidth=2)\n",
    "\n",
    "# Add a vertical line at one standard deviation above the mean.\n",
    "plt.axvline(Poisson_distr.mean() + Poisson_distr.std(), color='b', linestyle='dashed', linewidth=2)\n",
    "\n",
    "# Add a vertical line at one standard deviation below the mean.\n",
    "plt.axvline(Poisson_distr.mean()-Poisson_distr.std(), color='b', linestyle='dashed', linewidth=2) \n",
    "\n",
    "print (\"The mean is \", np.mean(Poisson_distr) )\n",
    "print (\"The Standard deviation  is \", np.std(Poisson_distr) )\n",
    "print (\"The median is \", np.median(Poisson_distr))\n",
    "\n",
    "plt.show()\n"
   ]
  },
  {
   "cell_type": "code",
   "execution_count": null,
   "metadata": {},
   "outputs": [],
   "source": [
    "The Mean and standard deviation here characterize the poisson distribution. the Mean and Median also appear similar like that of Normal distribution"
   ]
  },
  {
   "cell_type": "markdown",
   "metadata": {},
   "source": [
    "##  Uniform distribution"
   ]
  },
  {
   "cell_type": "code",
   "execution_count": 82,
   "metadata": {},
   "outputs": [
    {
     "name": "stdout",
     "output_type": "stream",
     "text": [
      "The mean is  2.5624407584793745\n",
      "The Standard deviation  is  1.4315871357435486\n",
      "The median is  2.543769645228706\n"
     ]
    },
    {
     "data": {
      "image/png": "[encoded data removed]",
      "text/plain": [
       "<Figure size 432x288 with 1 Axes>"
      ]
     },
     "metadata": {},
     "output_type": "display_data"
    }
   ],
   "source": [
    "Uniform_distr = np.random.uniform(0, 5, 1000)\n",
    "\n",
    "plt.hist(Uniform_distr, color ='grey')\n",
    "\n",
    "# Add a vertical line at the mean.\n",
    "plt.axvline(Uniform_distr.mean(), color='b', linestyle='solid', linewidth=2)\n",
    "\n",
    "# Add a vertical line at one standard deviation above the mean.\n",
    "plt.axvline(Uniform_distr.mean() + Uniform_distr.std(), color='b', linestyle='dashed', linewidth=2)\n",
    "\n",
    "# Add a vertical line at one standard deviation below the mean.\n",
    "plt.axvline(Uniform_distr.mean()-Uniform_distr.std(), color='b', linestyle='dashed', linewidth=2) \n",
    "\n",
    "print (\"The mean is \", np.mean(Uniform_distr) )\n",
    "print (\"The Standard deviation  is \", np.std(Uniform_distr) )\n",
    "print (\"The median is \", np.median(Uniform_distr))\n",
    "\n",
    "plt.show()\n"
   ]
  },
  {
   "cell_type": "code",
   "execution_count": null,
   "metadata": {},
   "outputs": [],
   "source": [
    "The mean and median appear similar here."
   ]
  },
  {
   "cell_type": "markdown",
   "metadata": {},
   "source": [
    "## Logistic distribution"
   ]
  },
  {
   "cell_type": "code",
   "execution_count": 85,
   "metadata": {},
   "outputs": [
    {
     "name": "stdout",
     "output_type": "stream",
     "text": [
      "The mean is  -1.5168870221250208\n",
      "The Standard deviation  is  88.69505916291871\n",
      "The median is  2.287354800395167\n"
     ]
    },
    {
     "data": {
      "image/png": "[encoded data removed]",
      "text/plain": [
       "<Figure size 432x288 with 1 Axes>"
      ]
     },
     "metadata": {},
     "output_type": "display_data"
    }
   ],
   "source": [
    "Logistic_distr = np.random.logistic(1, 50, 1000)\n",
    "\n",
    "plt.hist(Logistic_distr, color ='grey')\n",
    "\n",
    "# Add a vertical line at the mean.\n",
    "plt.axvline(Logistic_distr.mean(), color='b', linestyle='solid', linewidth=2)\n",
    "\n",
    "# Add a vertical line at one standard deviation above the mean.\n",
    "plt.axvline(Logistic_distr.mean() + Logistic_distr.std(), color='b', linestyle='dashed', linewidth=2)\n",
    "\n",
    "# Add a vertical line at one standard deviation below the mean.\n",
    "plt.axvline(Logistic_distr.mean()-Logistic_distr.std(), color='b', linestyle='dashed', linewidth=2) \n",
    "\n",
    "print (\"The mean is \", np.mean(Logistic_distr) )\n",
    "print (\"The Standard deviation  is \", np.std(Logistic_distr) )\n",
    "print (\"The median is \", np.median(Logistic_distr))\n",
    "\n",
    "plt.show()\n"
   ]
  },
  {
   "cell_type": "code",
   "execution_count": null,
   "metadata": {},
   "outputs": [],
   "source": [
    "the mean and Standard deviation can be useful in characterizing the logistic distribution."
   ]
  },
  {
   "cell_type": "markdown",
   "metadata": {},
   "source": [
    "# #Additional Exercise:"
   ]
  },
  {
   "cell_type": "code",
   "execution_count": 101,
   "metadata": {
    "scrolled": true
   },
   "outputs": [
    {
     "name": "stdout",
     "output_type": "stream",
     "text": [
      "The mean is  15.014098405805893\n",
      "The Standard deviation  is  1.0729364221505844\n"
     ]
    },
    {
     "data": {
      "image/png": "[encoded data removed]",
      "text/plain": [
       "<Figure size 432x288 with 1 Axes>"
      ]
     },
     "metadata": {},
     "output_type": "display_data"
    }
   ],
   "source": [
    "#Generate two normally-distributed variables, one with a mean of 5 and standard deviation of 0.5, and the other with a mean of 10 and standard deviation of 1.\n",
    "norm1=np.random.normal(5, 0.5, 1000)\n",
    "norm2=np.random.normal(10, 1, 1000)\n",
    "\n",
    "#Add them together to create a third variable.\n",
    "norm3=norm1+norm2\n",
    "\n",
    "#Graph the third variable using a histogram.\n",
    "plt.hist(norm3, color='c')\n",
    "\n",
    "#Compute the mean and standard deviation and plot them as vertical lines on the histogram.\n",
    "print (\"The mean is \", np.mean(norm3) )\n",
    "print (\"The Standard deviation  is \", np.std(norm3) )\n",
    "# Add a vertical line at the mean.\n",
    "plt.axvline(norm3.mean(), color='r', linestyle='solid', linewidth=2)\n",
    "plt.axvline(norm3.mean() + norm3.std(), color='r', linestyle='dashed', linewidth=2)\n",
    "plt.axvline(norm3.mean()-norm3.std(), color='r', linestyle='dashed', linewidth=2) \n",
    "plt.show()\n"
   ]
  },
  {
   "cell_type": "markdown",
   "metadata": {},
   "source": [
    "#Evaluate the descriptive statistics against the data.\n",
    "\n",
    "The mean depicts the center of the distribution indicating the central tendency of a normal distribution.\n",
    "The mean and median and are similar.\n",
    "The Standard deviation +/-1 covers around 68% of the data."
   ]
  },
  {
   "cell_type": "code",
   "execution_count": null,
   "metadata": {},
   "outputs": [],
   "source": []
  }
 ],
 "metadata": {
  "kernelspec": {
   "display_name": "Python 3",
   "language": "python",
   "name": "python3"
  },
  "language_info": {
   "codemirror_mode": {
    "name": "ipython",
    "version": 3
   },
   "file_extension": ".py",
   "mimetype": "text/x-python",
   "name": "python",
   "nbconvert_exporter": "python",
   "pygments_lexer": "ipython3",
   "version": "3.6.5"
  }
 },
 "nbformat": 4,
 "nbformat_minor": 2
}
