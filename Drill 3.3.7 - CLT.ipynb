{
 "cells": [
  {
   "cell_type": "code",
   "execution_count": 58,
   "metadata": {},
   "outputs": [],
   "source": [
    "import numpy as np\n",
    "import matplotlib.pyplot as plt\n",
    "from scipy.stats import ttest_ind"
   ]
  },
  {
   "cell_type": "code",
   "execution_count": 69,
   "metadata": {},
   "outputs": [
    {
     "name": "stdout",
     "output_type": "stream",
     "text": [
      "Mean of Pop1 is 2.008000 and Pop2 is 5.005800\n",
      "SD   of Pop2 is 1.266624 and Pop2 is 1.576695 \n",
      "\n",
      "Mean of Sample1 is 2.010000 and Sample2 is 5.040000\n",
      "SD   of Sample1 is 1.292246 and Sample2 is 1.760227\n"
     ]
    }
   ],
   "source": [
    "pop1 = np.random.binomial(10, 0.2, 10000)\n",
    "pop2 = np.random.binomial(10, 0.5, 10000)\n",
    "print (\"Mean of Pop1 is %f and Pop2 is %f\" % (np.mean(pop1), np.mean(pop2)))\n",
    "print (\"SD   of Pop2 is %f and Pop2 is %f \\n\" % (np.std(pop1), np.std(pop2)))\n",
    "\n",
    "sample1 = np.random.choice(pop1, 100)\n",
    "sample2 = np.random.choice(pop2, 100)\n",
    "\n",
    "print (\"Mean of Sample1 is %f and Sample2 is %f\" % (np.mean(sample1), np.mean(sample2)))\n",
    "print (\"SD   of Sample1 is %f and Sample2 is %f\" % (np.std(sample1), np.std(sample2)))"
   ]
  },
  {
   "cell_type": "markdown",
   "metadata": {},
   "source": [
    "# Tasks"
   ]
  },
  {
   "cell_type": "markdown",
   "metadata": {},
   "source": [
    "## 1. Increase the size of your samples from 100 to 1000, then calculate the means and standard deviations for your new samples and create histograms for each. Repeat this again, decreasing the size of your samples to 20. What values change, and what remain the same?\n",
    "\n",
    "Expectation: By increase or decreasing the sample size the means and standard deviation would change because we are taking more samples but not expected to change a lot. But the difference in the means and difference in the standard deviations of sample1 and sample2 would remain the same. The standard deviation decreases as the sample size increases and vice versa.\n",
    "\n",
    "By increasing sample size, the mean and standard deviation of each sample would get closer to that of the population.\n",
    "\n",
    "By decreasing sample size, the mean and standard deviation of each sample would go away from that of the population.\n"
   ]
  },
  {
   "cell_type": "code",
   "execution_count": 70,
   "metadata": {},
   "outputs": [
    {
     "name": "stdout",
     "output_type": "stream",
     "text": [
      "Mean of Sample1 is 2.030000 and Sample2 is 4.931000\n",
      "SD   of Sample1 is 1.277145 and Sample2 is 1.598824\n"
     ]
    },
    {
     "data": {
      "image/png": "[encoded data removed]",
      "text/plain": [
       "<Figure size 432x288 with 1 Axes>"
      ]
     },
     "metadata": {},
     "output_type": "display_data"
    }
   ],
   "source": [
    "# Increasing sample size to 1000\n",
    "sample1 = np.random.choice(pop1, 1000)\n",
    "sample2 = np.random.choice(pop2, 1000)\n",
    "\n",
    "print (\"Mean of Sample1 is %f and Sample2 is %f\" % (np.mean(sample1), np.mean(sample2)))\n",
    "print (\"SD   of Sample1 is %f and Sample2 is %f\" % (np.std(sample1), np.std(sample2)))\n",
    "\n",
    "plt.hist(sample1, alpha=0.5, label='Sample1')\n",
    "plt.hist(sample2, alpha=0.5, label='Sample2')\n",
    "plt.legend(loc='upper right')\n",
    "plt.show()"
   ]
  },
  {
   "cell_type": "code",
   "execution_count": 71,
   "metadata": {},
   "outputs": [
    {
     "name": "stdout",
     "output_type": "stream",
     "text": [
      "Mean of Sample1 is 1.750000 and Sample2 is 4.750000\n",
      "SD   of Sample1 is 1.089725 and Sample2 is 1.512448\n"
     ]
    },
    {
     "data": {
      "image/png": "[encoded data removed]",
      "text/plain": [
       "<Figure size 432x288 with 1 Axes>"
      ]
     },
     "metadata": {},
     "output_type": "display_data"
    }
   ],
   "source": [
    "# Decreasing sample size to 20\n",
    "sample1 = np.random.choice(pop1, 20)\n",
    "sample2 = np.random.choice(pop2, 20)\n",
    "\n",
    "print (\"Mean of Sample1 is %f and Sample2 is %f\" % (np.mean(sample1), np.mean(sample2)))\n",
    "print (\"SD   of Sample1 is %f and Sample2 is %f\" % (np.std(sample1), np.std(sample2)))\n",
    "\n",
    "plt.hist(sample1, alpha=0.5, label='Sample1')\n",
    "plt.hist(sample2, alpha=0.5, label='Sample2')\n",
    "plt.legend(loc='upper right')\n",
    "plt.show()"
   ]
  },
  {
   "cell_type": "markdown",
   "metadata": {},
   "source": [
    "## 2. Change the probability value (p in the NumPy documentation) for pop1 to 0.3, then take new samples and compute the t-statistic and p-value. Then change the probability value p for group 1 to 0.4, and do it again. What changes, and why?\n",
    "\n",
    "Expectation: \n",
    "By changing the probability value the mean changes a lot between groups. By increase the probqablity to 0.4 the means of pop1 sample group is becoming closer to the other population, pop2 which is at 0.5. Because of which the T-Value becomes smaller and there are more chances to conclude that the differences in the sample means are not real differences and because of random variation in the data."
   ]
  },
  {
   "cell_type": "code",
   "execution_count": 59,
   "metadata": {},
   "outputs": [
    {
     "name": "stdout",
     "output_type": "stream",
     "text": [
      "Mean of Pop1 is 3.009400 and Sample2 is 5.005300\n",
      "SD   of Pop2 is 1.446828 and Sample2 is 1.577489 \n",
      "\n",
      "Mean of Sample1 is 2.950000 and Sample2 is 5.050000\n",
      "SD   of Sample1 is 1.430909 and Sample2 is 1.472243\n"
     ]
    },
    {
     "data": {
      "image/png": "[encoded data removed]",
      "text/plain": [
       "<Figure size 432x288 with 1 Axes>"
      ]
     },
     "metadata": {},
     "output_type": "display_data"
    },
    {
     "name": "stdout",
     "output_type": "stream",
     "text": [
      "Ttest_indResult(statistic=10.177429497391627, pvalue=7.812884595251723e-20)\n"
     ]
    }
   ],
   "source": [
    "# Changing the p value of pop1 to 0.3\n",
    "\n",
    "pop1 = np.random.binomial(10, 0.3, 10000)\n",
    "pop2 = np.random.binomial(10, 0.5, 10000)\n",
    "print (\"Mean of Pop1 is %f and Sample2 is %f\" % (np.mean(pop1), np.mean(pop2)))\n",
    "print (\"SD   of Pop2 is %f and Sample2 is %f \\n\" % (np.std(pop1), np.std(pop2)))\n",
    "\n",
    "sample1 = np.random.choice(pop1, 100)\n",
    "sample2 = np.random.choice(pop2, 100)\n",
    "\n",
    "print (\"Mean of Sample1 is %f and Sample2 is %f\" % (np.mean(sample1), np.mean(sample2)))\n",
    "print (\"SD   of Sample1 is %f and Sample2 is %f\" % (np.std(sample1), np.std(sample2)))\n",
    "\n",
    "plt.hist(sample1, alpha=0.5, label='Sample1')\n",
    "plt.hist(sample2, alpha=0.5, label='Sample2')\n",
    "plt.legend(loc='upper right')\n",
    "plt.show()\n",
    "\n",
    "print(ttest_ind(sample2, sample1, equal_var=False))\n"
   ]
  },
  {
   "cell_type": "code",
   "execution_count": 62,
   "metadata": {},
   "outputs": [
    {
     "name": "stdout",
     "output_type": "stream",
     "text": [
      "Mean of Pop1 is 3.995200 and Sample2 is 5.033600\n",
      "SD   of Pop2 is 1.548282 and Sample2 is 1.575015 \n",
      "\n",
      "Mean of Sample1 is 3.820000 and Sample2 is 5.010000\n",
      "SD   of Sample1 is 1.395564 and Sample2 is 1.479831\n"
     ]
    },
    {
     "data": {
      "image/png": "[encoded data removed]",
      "text/plain": [
       "<Figure size 432x288 with 1 Axes>"
      ]
     },
     "metadata": {},
     "output_type": "display_data"
    },
    {
     "name": "stdout",
     "output_type": "stream",
     "text": [
      "Ttest_indResult(statistic=5.820972603816363, pvalue=2.337590374191552e-08)\n"
     ]
    }
   ],
   "source": [
    "# Changing the p value of pop1 to 0.4\n",
    "\n",
    "pop1 = np.random.binomial(10, 0.4, 10000)\n",
    "pop2 = np.random.binomial(10, 0.5, 10000)\n",
    "print (\"Mean of Pop1 is %f and Sample2 is %f\" % (np.mean(pop1), np.mean(pop2)))\n",
    "print (\"SD   of Pop2 is %f and Sample2 is %f \\n\" % (np.std(pop1), np.std(pop2)))\n",
    "\n",
    "sample1 = np.random.choice(pop1, 100)\n",
    "sample2 = np.random.choice(pop2, 100)\n",
    "\n",
    "print (\"Mean of Sample1 is %f and Sample2 is %f\" % (np.mean(sample1), np.mean(sample2)))\n",
    "print (\"SD   of Sample1 is %f and Sample2 is %f\" % (np.std(sample1), np.std(sample2)))\n",
    "\n",
    "plt.hist(sample1, alpha=0.5, label='Sample1')\n",
    "plt.hist(sample2, alpha=0.5, label='Sample2')\n",
    "plt.legend(loc='upper right')\n",
    "plt.show()\n",
    "\n",
    "print(ttest_ind(sample2, sample1, equal_var=False))"
   ]
  },
  {
   "cell_type": "markdown",
   "metadata": {},
   "source": [
    "#### Conclusion: Even after changing the binomial probablity value from 0.3 to 0.4 much closer to othe population of 0.5, since the p value is still lesser than 0.05 we can conclude that the differences in the means of sample groups are because of real differneces in the groups and not random variation in the data."
   ]
  },
  {
   "cell_type": "markdown",
   "metadata": {},
   "source": [
    "## 3. Change the distribution of your populations from binomial to a distribution of your choice. Do the sample mean values still accurately represent the population values?"
   ]
  },
  {
   "cell_type": "code",
   "execution_count": 77,
   "metadata": {},
   "outputs": [
    {
     "name": "stdout",
     "output_type": "stream",
     "text": [
      "Mean of Pop1 is 10.01 and Pop2 is 20.00\n",
      "SD   of Pop2 is 3.19 and Pop2 is 4.47 \n",
      "\n",
      "Mean of Sample1 is 11.67 and Sample2 is 17.67\n",
      "SD   of Sample1 is 2.36 and Sample2 is 1.25\n"
     ]
    }
   ],
   "source": [
    "pop1 = np.random.poisson(10, 10000)\n",
    "pop2 = np.random.poisson(20, 10000)\n",
    "print (\"Mean of Pop1 is %.2f and Pop2 is %.2f\" % (np.mean(pop1), np.mean(pop2)))\n",
    "print (\"SD   of Pop2 is %.2f and Pop2 is %.2f \\n\" % (np.std(pop1), np.std(pop2)))\n",
    "\n",
    "sample1 = np.random.choice(pop1, 3)\n",
    "sample2 = np.random.choice(pop2, 3)\n",
    "\n",
    "print (\"Mean of Sample1 is %.2f and Sample2 is %.2f\" % (np.mean(sample1), np.mean(sample2)))\n",
    "print (\"SD   of Sample1 is %.2f and Sample2 is %.2f\" % (np.std(sample1), np.std(sample2)))"
   ]
  },
  {
   "cell_type": "markdown",
   "metadata": {},
   "source": [
    "### Yes, the sample means and standard deviation still accurately represent the population values."
   ]
  },
  {
   "cell_type": "code",
   "execution_count": null,
   "metadata": {},
   "outputs": [],
   "source": []
  }
 ],
 "metadata": {
  "kernelspec": {
   "display_name": "Python 3",
   "language": "python",
   "name": "python3"
  },
  "language_info": {
   "codemirror_mode": {
    "name": "ipython",
    "version": 3
   },
   "file_extension": ".py",
   "mimetype": "text/x-python",
   "name": "python",
   "nbconvert_exporter": "python",
   "pygments_lexer": "ipython3",
   "version": "3.6.5"
  }
 },
 "nbformat": 4,
 "nbformat_minor": 2
}
