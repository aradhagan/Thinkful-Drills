{
 "cells": [
  {
   "cell_type": "code",
   "execution_count": 1,
   "metadata": {},
   "outputs": [],
   "source": [
    "import random"
   ]
  },
  {
   "cell_type": "code",
   "execution_count": 2,
   "metadata": {},
   "outputs": [],
   "source": [
    "# Binary Tree in Python\n",
    "\n",
    "class Node:\n",
    "    def __init__(self, val):\n",
    "        self.value = val\n",
    "        self.leftChild = None\n",
    "        self.rightChild = None\n",
    "\n",
    "    def insert(self, data):\n",
    "        if self.value == data:\n",
    "            return False\n",
    "\n",
    "        elif self.value > data:\n",
    "            if self.leftChild:\n",
    "                return self.leftChild.insert(data)\n",
    "            else:\n",
    "                self.leftChild = Node(data)\n",
    "                return True\n",
    "\n",
    "        else:\n",
    "            if self.rightChild:\n",
    "                return self.rightChild.insert(data)\n",
    "            else:\n",
    "                self.rightChild = Node(data)\n",
    "                return True\n",
    "\n",
    "    def breadth_first(self):\n",
    "        if self:\n",
    "     \n",
    "            if self.leftChild:\n",
    "                print (str(self.leftChild.value))   \n",
    "               \n",
    "\n",
    "            if self.rightChild:\n",
    "                print (str(self.rightChild.value))\n",
    "               \n",
    "                \n",
    "        if self:\n",
    "           \n",
    "                if self.leftChild:\n",
    "\n",
    "                    self.leftChild.breadth_first()\n",
    "                    \n",
    "\n",
    "                if self.rightChild:\n",
    "\n",
    "                    self.rightChild.breadth_first()\n",
    "                  \n",
    "\n",
    "        \n",
    "\n",
    "class Tree:\n",
    "    def __init__(self):\n",
    "        self.root = None\n",
    "\n",
    "    def insert(self, data):\n",
    "        if self.root:\n",
    "            return self.root.insert(data)\n",
    "        else:\n",
    "            self.root = Node(data)\n",
    "            return True\n",
    "\n",
    "    def breadth_first(self):\n",
    "        if self.root is not None:\n",
    "            \n",
    "            print(\"Breadth First traversal\")\n",
    "            print (str(self.root.value))\n",
    "            self.root.breadth_first()"
   ]
  },
  {
   "cell_type": "code",
   "execution_count": 3,
   "metadata": {},
   "outputs": [
    {
     "data": {
      "text/plain": [
       "[18, 58, 98, 22, 90, 50, 93, 44, 55, 64, 14, 68, 15, 10, 94]"
      ]
     },
     "execution_count": 3,
     "metadata": {},
     "output_type": "execute_result"
    }
   ],
   "source": [
    "random.seed(a=100)\n",
    "list_for_tree = list(random.sample(range(100), 15))\n",
    "list_for_tree"
   ]
  },
  {
   "cell_type": "code",
   "execution_count": 4,
   "metadata": {},
   "outputs": [
    {
     "name": "stdout",
     "output_type": "stream",
     "text": [
      "Breadth First traversal\n",
      "18\n",
      "14\n",
      "58\n",
      "10\n",
      "15\n",
      "22\n",
      "98\n",
      "50\n",
      "44\n",
      "55\n",
      "90\n",
      "64\n",
      "93\n",
      "68\n",
      "94\n"
     ]
    }
   ],
   "source": [
    "tree=Tree()\n",
    "for item in list_for_tree:\n",
    "    tree.insert(item)\n",
    "tree.breadth_first()"
   ]
  },
  {
   "cell_type": "code",
   "execution_count": null,
   "metadata": {},
   "outputs": [],
   "source": []
  },
  {
   "cell_type": "code",
   "execution_count": null,
   "metadata": {},
   "outputs": [],
   "source": []
  }
 ],
 "metadata": {
  "kernelspec": {
   "display_name": "Python 3",
   "language": "python",
   "name": "python3"
  },
  "language_info": {
   "codemirror_mode": {
    "name": "ipython",
    "version": 3
   },
   "file_extension": ".py",
   "mimetype": "text/x-python",
   "name": "python",
   "nbconvert_exporter": "python",
   "pygments_lexer": "ipython3",
   "version": "3.7.1"
  }
 },
 "nbformat": 4,
 "nbformat_minor": 2
}
